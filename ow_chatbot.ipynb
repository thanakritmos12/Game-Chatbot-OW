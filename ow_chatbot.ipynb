{
  "cells": [
    {
      "cell_type": "code",
      "execution_count": null,
      "metadata": {
        "id": "zCARr2bDh4Wd"
      },
      "outputs": [],
      "source": [
        "# https://youtube.com/shorts/tRS250qVJU0?si=tFtU2I0fkVPWHANW\n",
        "# link rec sys"
      ]
    },
    {
      "cell_type": "code",
      "execution_count": null,
      "metadata": {
        "colab": {
          "base_uri": "https://localhost:8080/"
        },
        "id": "bcC4N6UHNKb0",
        "outputId": "84ff790c-28a4-4ffa-e3c6-67ecc4c0b8f0"
      },
      "outputs": [
        {
          "name": "stdout",
          "output_type": "stream",
          "text": [
            "Requirement already satisfied: neo4j-driver in /usr/local/lib/python3.10/dist-packages (5.13.0)\n",
            "Requirement already satisfied: pytz in /usr/local/lib/python3.10/dist-packages (from neo4j-driver) (2023.3.post1)\n",
            "Requirement already satisfied: sentence-transformers in /usr/local/lib/python3.10/dist-packages (2.2.2)\n",
            "Requirement already satisfied: transformers<5.0.0,>=4.6.0 in /usr/local/lib/python3.10/dist-packages (from sentence-transformers) (4.34.0)\n",
            "Requirement already satisfied: tqdm in /usr/local/lib/python3.10/dist-packages (from sentence-transformers) (4.66.1)\n",
            "Requirement already satisfied: torch>=1.6.0 in /usr/local/lib/python3.10/dist-packages (from sentence-transformers) (2.0.1+cu118)\n",
            "Requirement already satisfied: torchvision in /usr/local/lib/python3.10/dist-packages (from sentence-transformers) (0.15.2+cu118)\n",
            "Requirement already satisfied: numpy in /usr/local/lib/python3.10/dist-packages (from sentence-transformers) (1.23.5)\n",
            "Requirement already satisfied: scikit-learn in /usr/local/lib/python3.10/dist-packages (from sentence-transformers) (1.2.2)\n",
            "Requirement already satisfied: scipy in /usr/local/lib/python3.10/dist-packages (from sentence-transformers) (1.11.3)\n",
            "Requirement already satisfied: nltk in /usr/local/lib/python3.10/dist-packages (from sentence-transformers) (3.8.1)\n",
            "Requirement already satisfied: sentencepiece in /usr/local/lib/python3.10/dist-packages (from sentence-transformers) (0.1.99)\n",
            "Requirement already satisfied: huggingface-hub>=0.4.0 in /usr/local/lib/python3.10/dist-packages (from sentence-transformers) (0.16.4)\n",
            "Requirement already satisfied: filelock in /usr/local/lib/python3.10/dist-packages (from huggingface-hub>=0.4.0->sentence-transformers) (3.12.4)\n",
            "Requirement already satisfied: fsspec in /usr/local/lib/python3.10/dist-packages (from huggingface-hub>=0.4.0->sentence-transformers) (2023.6.0)\n",
            "Requirement already satisfied: requests in /usr/local/lib/python3.10/dist-packages (from huggingface-hub>=0.4.0->sentence-transformers) (2.31.0)\n",
            "Requirement already satisfied: pyyaml>=5.1 in /usr/local/lib/python3.10/dist-packages (from huggingface-hub>=0.4.0->sentence-transformers) (6.0.1)\n",
            "Requirement already satisfied: typing-extensions>=3.7.4.3 in /usr/local/lib/python3.10/dist-packages (from huggingface-hub>=0.4.0->sentence-transformers) (4.8.0)\n",
            "Requirement already satisfied: packaging>=20.9 in /usr/local/lib/python3.10/dist-packages (from huggingface-hub>=0.4.0->sentence-transformers) (23.2)\n",
            "Requirement already satisfied: sympy in /usr/local/lib/python3.10/dist-packages (from torch>=1.6.0->sentence-transformers) (1.12)\n",
            "Requirement already satisfied: networkx in /usr/local/lib/python3.10/dist-packages (from torch>=1.6.0->sentence-transformers) (3.1)\n",
            "Requirement already satisfied: jinja2 in /usr/local/lib/python3.10/dist-packages (from torch>=1.6.0->sentence-transformers) (3.1.2)\n",
            "Requirement already satisfied: triton==2.0.0 in /usr/local/lib/python3.10/dist-packages (from torch>=1.6.0->sentence-transformers) (2.0.0)\n",
            "Requirement already satisfied: cmake in /usr/local/lib/python3.10/dist-packages (from triton==2.0.0->torch>=1.6.0->sentence-transformers) (3.27.6)\n",
            "Requirement already satisfied: lit in /usr/local/lib/python3.10/dist-packages (from triton==2.0.0->torch>=1.6.0->sentence-transformers) (17.0.2)\n",
            "Requirement already satisfied: regex!=2019.12.17 in /usr/local/lib/python3.10/dist-packages (from transformers<5.0.0,>=4.6.0->sentence-transformers) (2023.6.3)\n",
            "Requirement already satisfied: tokenizers<0.15,>=0.14 in /usr/local/lib/python3.10/dist-packages (from transformers<5.0.0,>=4.6.0->sentence-transformers) (0.14.0)\n",
            "Requirement already satisfied: safetensors>=0.3.1 in /usr/local/lib/python3.10/dist-packages (from transformers<5.0.0,>=4.6.0->sentence-transformers) (0.3.3)\n",
            "Requirement already satisfied: click in /usr/local/lib/python3.10/dist-packages (from nltk->sentence-transformers) (8.1.7)\n",
            "Requirement already satisfied: joblib in /usr/local/lib/python3.10/dist-packages (from nltk->sentence-transformers) (1.3.2)\n",
            "Requirement already satisfied: threadpoolctl>=2.0.0 in /usr/local/lib/python3.10/dist-packages (from scikit-learn->sentence-transformers) (3.2.0)\n",
            "Requirement already satisfied: pillow!=8.3.*,>=5.3.0 in /usr/local/lib/python3.10/dist-packages (from torchvision->sentence-transformers) (9.4.0)\n",
            "Requirement already satisfied: MarkupSafe>=2.0 in /usr/local/lib/python3.10/dist-packages (from jinja2->torch>=1.6.0->sentence-transformers) (2.1.3)\n",
            "Requirement already satisfied: charset-normalizer<4,>=2 in /usr/local/lib/python3.10/dist-packages (from requests->huggingface-hub>=0.4.0->sentence-transformers) (3.3.0)\n",
            "Requirement already satisfied: idna<4,>=2.5 in /usr/local/lib/python3.10/dist-packages (from requests->huggingface-hub>=0.4.0->sentence-transformers) (3.4)\n",
            "Requirement already satisfied: urllib3<3,>=1.21.1 in /usr/local/lib/python3.10/dist-packages (from requests->huggingface-hub>=0.4.0->sentence-transformers) (2.0.6)\n",
            "Requirement already satisfied: certifi>=2017.4.17 in /usr/local/lib/python3.10/dist-packages (from requests->huggingface-hub>=0.4.0->sentence-transformers) (2023.7.22)\n",
            "Requirement already satisfied: mpmath>=0.19 in /usr/local/lib/python3.10/dist-packages (from sympy->torch>=1.6.0->sentence-transformers) (1.3.0)\n",
            "Requirement already satisfied: pythainlp in /usr/local/lib/python3.10/dist-packages (4.0.2)\n",
            "Requirement already satisfied: requests>=2.22.0 in /usr/local/lib/python3.10/dist-packages (from pythainlp) (2.31.0)\n",
            "Requirement already satisfied: charset-normalizer<4,>=2 in /usr/local/lib/python3.10/dist-packages (from requests>=2.22.0->pythainlp) (3.3.0)\n",
            "Requirement already satisfied: idna<4,>=2.5 in /usr/local/lib/python3.10/dist-packages (from requests>=2.22.0->pythainlp) (3.4)\n",
            "Requirement already satisfied: urllib3<3,>=1.21.1 in /usr/local/lib/python3.10/dist-packages (from requests>=2.22.0->pythainlp) (2.0.6)\n",
            "Requirement already satisfied: certifi>=2017.4.17 in /usr/local/lib/python3.10/dist-packages (from requests>=2.22.0->pythainlp) (2023.7.22)\n",
            "Requirement already satisfied: translate in /usr/local/lib/python3.10/dist-packages (3.6.1)\n",
            "Requirement already satisfied: click in /usr/local/lib/python3.10/dist-packages (from translate) (8.1.7)\n",
            "Requirement already satisfied: lxml in /usr/local/lib/python3.10/dist-packages (from translate) (4.9.3)\n",
            "Requirement already satisfied: requests in /usr/local/lib/python3.10/dist-packages (from translate) (2.31.0)\n",
            "Requirement already satisfied: libretranslatepy==2.1.1 in /usr/local/lib/python3.10/dist-packages (from translate) (2.1.1)\n",
            "Requirement already satisfied: charset-normalizer<4,>=2 in /usr/local/lib/python3.10/dist-packages (from requests->translate) (3.3.0)\n",
            "Requirement already satisfied: idna<4,>=2.5 in /usr/local/lib/python3.10/dist-packages (from requests->translate) (3.4)\n",
            "Requirement already satisfied: urllib3<3,>=1.21.1 in /usr/local/lib/python3.10/dist-packages (from requests->translate) (2.0.6)\n",
            "Requirement already satisfied: certifi>=2017.4.17 in /usr/local/lib/python3.10/dist-packages (from requests->translate) (2023.7.22)\n",
            "Requirement already satisfied: transformers in /usr/local/lib/python3.10/dist-packages (4.34.0)\n",
            "Requirement already satisfied: sentencepiece in /usr/local/lib/python3.10/dist-packages (0.1.99)\n",
            "Requirement already satisfied: sacremoses in /usr/local/lib/python3.10/dist-packages (0.0.53)\n",
            "Requirement already satisfied: filelock in /usr/local/lib/python3.10/dist-packages (from transformers) (3.12.4)\n",
            "Requirement already satisfied: huggingface-hub<1.0,>=0.16.4 in /usr/local/lib/python3.10/dist-packages (from transformers) (0.16.4)\n",
            "Requirement already satisfied: numpy>=1.17 in /usr/local/lib/python3.10/dist-packages (from transformers) (1.23.5)\n",
            "Requirement already satisfied: packaging>=20.0 in /usr/local/lib/python3.10/dist-packages (from transformers) (23.2)\n",
            "Requirement already satisfied: pyyaml>=5.1 in /usr/local/lib/python3.10/dist-packages (from transformers) (6.0.1)\n",
            "Requirement already satisfied: regex!=2019.12.17 in /usr/local/lib/python3.10/dist-packages (from transformers) (2023.6.3)\n",
            "Requirement already satisfied: requests in /usr/local/lib/python3.10/dist-packages (from transformers) (2.31.0)\n",
            "Requirement already satisfied: tokenizers<0.15,>=0.14 in /usr/local/lib/python3.10/dist-packages (from transformers) (0.14.0)\n",
            "Requirement already satisfied: safetensors>=0.3.1 in /usr/local/lib/python3.10/dist-packages (from transformers) (0.3.3)\n",
            "Requirement already satisfied: tqdm>=4.27 in /usr/local/lib/python3.10/dist-packages (from transformers) (4.66.1)\n",
            "Requirement already satisfied: six in /usr/local/lib/python3.10/dist-packages (from sacremoses) (1.16.0)\n",
            "Requirement already satisfied: click in /usr/local/lib/python3.10/dist-packages (from sacremoses) (8.1.7)\n",
            "Requirement already satisfied: joblib in /usr/local/lib/python3.10/dist-packages (from sacremoses) (1.3.2)\n",
            "Requirement already satisfied: fsspec in /usr/local/lib/python3.10/dist-packages (from huggingface-hub<1.0,>=0.16.4->transformers) (2023.6.0)\n",
            "Requirement already satisfied: typing-extensions>=3.7.4.3 in /usr/local/lib/python3.10/dist-packages (from huggingface-hub<1.0,>=0.16.4->transformers) (4.8.0)\n",
            "Requirement already satisfied: charset-normalizer<4,>=2 in /usr/local/lib/python3.10/dist-packages (from requests->transformers) (3.3.0)\n",
            "Requirement already satisfied: idna<4,>=2.5 in /usr/local/lib/python3.10/dist-packages (from requests->transformers) (3.4)\n",
            "Requirement already satisfied: urllib3<3,>=1.21.1 in /usr/local/lib/python3.10/dist-packages (from requests->transformers) (2.0.6)\n",
            "Requirement already satisfied: certifi>=2017.4.17 in /usr/local/lib/python3.10/dist-packages (from requests->transformers) (2023.7.22)\n",
            "Requirement already satisfied: pyngrok in /usr/local/lib/python3.10/dist-packages (7.0.0)\n",
            "Requirement already satisfied: PyYAML in /usr/local/lib/python3.10/dist-packages (from pyngrok) (6.0.1)\n",
            "Requirement already satisfied: flask_ngrok in /usr/local/lib/python3.10/dist-packages (0.0.25)\n",
            "Requirement already satisfied: Flask>=0.8 in /usr/local/lib/python3.10/dist-packages (from flask_ngrok) (2.2.5)\n",
            "Requirement already satisfied: requests in /usr/local/lib/python3.10/dist-packages (from flask_ngrok) (2.31.0)\n",
            "Requirement already satisfied: Werkzeug>=2.2.2 in /usr/local/lib/python3.10/dist-packages (from Flask>=0.8->flask_ngrok) (3.0.0)\n",
            "Requirement already satisfied: Jinja2>=3.0 in /usr/local/lib/python3.10/dist-packages (from Flask>=0.8->flask_ngrok) (3.1.2)\n",
            "Requirement already satisfied: itsdangerous>=2.0 in /usr/local/lib/python3.10/dist-packages (from Flask>=0.8->flask_ngrok) (2.1.2)\n",
            "Requirement already satisfied: click>=8.0 in /usr/local/lib/python3.10/dist-packages (from Flask>=0.8->flask_ngrok) (8.1.7)\n",
            "Requirement already satisfied: charset-normalizer<4,>=2 in /usr/local/lib/python3.10/dist-packages (from requests->flask_ngrok) (3.3.0)\n",
            "Requirement already satisfied: idna<4,>=2.5 in /usr/local/lib/python3.10/dist-packages (from requests->flask_ngrok) (3.4)\n",
            "Requirement already satisfied: urllib3<3,>=1.21.1 in /usr/local/lib/python3.10/dist-packages (from requests->flask_ngrok) (2.0.6)\n",
            "Requirement already satisfied: certifi>=2017.4.17 in /usr/local/lib/python3.10/dist-packages (from requests->flask_ngrok) (2023.7.22)\n",
            "Requirement already satisfied: MarkupSafe>=2.0 in /usr/local/lib/python3.10/dist-packages (from Jinja2>=3.0->Flask>=0.8->flask_ngrok) (2.1.3)\n",
            "Requirement already satisfied: line-bot-sdk in /usr/local/lib/python3.10/dist-packages (3.5.0)\n",
            "Requirement already satisfied: requests==2.31.0 in /usr/local/lib/python3.10/dist-packages (from line-bot-sdk) (2.31.0)\n",
            "Requirement already satisfied: aiohttp==3.8.5 in /usr/local/lib/python3.10/dist-packages (from line-bot-sdk) (3.8.5)\n",
            "Requirement already satisfied: future in /usr/local/lib/python3.10/dist-packages (from line-bot-sdk) (0.18.3)\n",
            "Requirement already satisfied: pydantic<3,>=2.0.3 in /usr/local/lib/python3.10/dist-packages (from line-bot-sdk) (2.4.2)\n",
            "Requirement already satisfied: aenum>=3.1.11 in /usr/local/lib/python3.10/dist-packages (from line-bot-sdk) (3.1.15)\n",
            "Requirement already satisfied: python-dateutil>=2.5.3 in /usr/local/lib/python3.10/dist-packages (from line-bot-sdk) (2.8.2)\n",
            "Requirement already satisfied: Deprecated in /usr/local/lib/python3.10/dist-packages (from line-bot-sdk) (1.2.14)\n",
            "Requirement already satisfied: attrs>=17.3.0 in /usr/local/lib/python3.10/dist-packages (from aiohttp==3.8.5->line-bot-sdk) (23.1.0)\n",
            "Requirement already satisfied: charset-normalizer<4.0,>=2.0 in /usr/local/lib/python3.10/dist-packages (from aiohttp==3.8.5->line-bot-sdk) (3.3.0)\n",
            "Requirement already satisfied: multidict<7.0,>=4.5 in /usr/local/lib/python3.10/dist-packages (from aiohttp==3.8.5->line-bot-sdk) (6.0.4)\n",
            "Requirement already satisfied: async-timeout<5.0,>=4.0.0a3 in /usr/local/lib/python3.10/dist-packages (from aiohttp==3.8.5->line-bot-sdk) (4.0.3)\n",
            "Requirement already satisfied: yarl<2.0,>=1.0 in /usr/local/lib/python3.10/dist-packages (from aiohttp==3.8.5->line-bot-sdk) (1.9.2)\n",
            "Requirement already satisfied: frozenlist>=1.1.1 in /usr/local/lib/python3.10/dist-packages (from aiohttp==3.8.5->line-bot-sdk) (1.4.0)\n",
            "Requirement already satisfied: aiosignal>=1.1.2 in /usr/local/lib/python3.10/dist-packages (from aiohttp==3.8.5->line-bot-sdk) (1.3.1)\n",
            "Requirement already satisfied: idna<4,>=2.5 in /usr/local/lib/python3.10/dist-packages (from requests==2.31.0->line-bot-sdk) (3.4)\n",
            "Requirement already satisfied: urllib3<3,>=1.21.1 in /usr/local/lib/python3.10/dist-packages (from requests==2.31.0->line-bot-sdk) (2.0.6)\n",
            "Requirement already satisfied: certifi>=2017.4.17 in /usr/local/lib/python3.10/dist-packages (from requests==2.31.0->line-bot-sdk) (2023.7.22)\n",
            "Requirement already satisfied: annotated-types>=0.4.0 in /usr/local/lib/python3.10/dist-packages (from pydantic<3,>=2.0.3->line-bot-sdk) (0.5.0)\n",
            "Requirement already satisfied: pydantic-core==2.10.1 in /usr/local/lib/python3.10/dist-packages (from pydantic<3,>=2.0.3->line-bot-sdk) (2.10.1)\n",
            "Requirement already satisfied: typing-extensions>=4.6.1 in /usr/local/lib/python3.10/dist-packages (from pydantic<3,>=2.0.3->line-bot-sdk) (4.8.0)\n",
            "Requirement already satisfied: six>=1.5 in /usr/local/lib/python3.10/dist-packages (from python-dateutil>=2.5.3->line-bot-sdk) (1.16.0)\n",
            "Requirement already satisfied: wrapt<2,>=1.10 in /usr/local/lib/python3.10/dist-packages (from Deprecated->line-bot-sdk) (1.15.0)\n"
          ]
        }
      ],
      "source": [
        "!pip install neo4j-driver\n",
        "!pip install sentence-transformers\n",
        "!pip install pythainlp\n",
        "!pip install translate\n",
        "!pip install transformers sentencepiece sacremoses\n",
        "!pip install pyngrok\n",
        "!pip install flask_ngrok\n",
        "!pip install line-bot-sdk"
      ]
    },
    {
      "cell_type": "code",
      "execution_count": null,
      "metadata": {
        "colab": {
          "base_uri": "https://localhost:8080/"
        },
        "id": "vYieKNeEwURP",
        "outputId": "eace492e-f8f8-4f49-a583-fed0183e02c2"
      },
      "outputs": [
        {
          "name": "stdout",
          "output_type": "stream",
          "text": [
            "Requirement already satisfied: gradio in /usr/local/lib/python3.10/dist-packages (3.47.0)\n",
            "Requirement already satisfied: aiofiles<24.0,>=22.0 in /usr/local/lib/python3.10/dist-packages (from gradio) (23.2.1)\n",
            "Requirement already satisfied: altair<6.0,>=4.2.0 in /usr/local/lib/python3.10/dist-packages (from gradio) (4.2.2)\n",
            "Requirement already satisfied: fastapi in /usr/local/lib/python3.10/dist-packages (from gradio) (0.103.2)\n",
            "Requirement already satisfied: ffmpy in /usr/local/lib/python3.10/dist-packages (from gradio) (0.3.1)\n",
            "Requirement already satisfied: gradio-client==0.6.0 in /usr/local/lib/python3.10/dist-packages (from gradio) (0.6.0)\n",
            "Requirement already satisfied: httpx in /usr/local/lib/python3.10/dist-packages (from gradio) (0.25.0)\n",
            "Requirement already satisfied: huggingface-hub>=0.14.0 in /usr/local/lib/python3.10/dist-packages (from gradio) (0.16.4)\n",
            "Requirement already satisfied: importlib-resources<7.0,>=1.3 in /usr/local/lib/python3.10/dist-packages (from gradio) (6.1.0)\n",
            "Requirement already satisfied: jinja2<4.0 in /usr/local/lib/python3.10/dist-packages (from gradio) (3.1.2)\n",
            "Requirement already satisfied: markupsafe~=2.0 in /usr/local/lib/python3.10/dist-packages (from gradio) (2.1.3)\n",
            "Requirement already satisfied: matplotlib~=3.0 in /usr/local/lib/python3.10/dist-packages (from gradio) (3.7.1)\n",
            "Requirement already satisfied: numpy~=1.0 in /usr/local/lib/python3.10/dist-packages (from gradio) (1.23.5)\n",
            "Requirement already satisfied: orjson~=3.0 in /usr/local/lib/python3.10/dist-packages (from gradio) (3.9.7)\n",
            "Requirement already satisfied: packaging in /usr/local/lib/python3.10/dist-packages (from gradio) (23.2)\n",
            "Requirement already satisfied: pandas<3.0,>=1.0 in /usr/local/lib/python3.10/dist-packages (from gradio) (1.5.3)\n",
            "Requirement already satisfied: pillow<11.0,>=8.0 in /usr/local/lib/python3.10/dist-packages (from gradio) (9.4.0)\n",
            "Requirement already satisfied: pydantic!=1.8,!=1.8.1,!=2.0.0,!=2.0.1,<3.0.0,>=1.7.4 in /usr/local/lib/python3.10/dist-packages (from gradio) (2.4.2)\n",
            "Requirement already satisfied: pydub in /usr/local/lib/python3.10/dist-packages (from gradio) (0.25.1)\n",
            "Requirement already satisfied: python-multipart in /usr/local/lib/python3.10/dist-packages (from gradio) (0.0.6)\n",
            "Requirement already satisfied: pyyaml<7.0,>=5.0 in /usr/local/lib/python3.10/dist-packages (from gradio) (6.0.1)\n",
            "Requirement already satisfied: requests~=2.0 in /usr/local/lib/python3.10/dist-packages (from gradio) (2.31.0)\n",
            "Requirement already satisfied: semantic-version~=2.0 in /usr/local/lib/python3.10/dist-packages (from gradio) (2.10.0)\n",
            "Requirement already satisfied: typing-extensions~=4.0 in /usr/local/lib/python3.10/dist-packages (from gradio) (4.8.0)\n",
            "Requirement already satisfied: uvicorn>=0.14.0 in /usr/local/lib/python3.10/dist-packages (from gradio) (0.23.2)\n",
            "Requirement already satisfied: websockets<12.0,>=10.0 in /usr/local/lib/python3.10/dist-packages (from gradio) (11.0.3)\n",
            "Requirement already satisfied: fsspec in /usr/local/lib/python3.10/dist-packages (from gradio-client==0.6.0->gradio) (2023.6.0)\n",
            "Requirement already satisfied: entrypoints in /usr/local/lib/python3.10/dist-packages (from altair<6.0,>=4.2.0->gradio) (0.4)\n",
            "Requirement already satisfied: jsonschema>=3.0 in /usr/local/lib/python3.10/dist-packages (from altair<6.0,>=4.2.0->gradio) (4.19.1)\n",
            "Requirement already satisfied: toolz in /usr/local/lib/python3.10/dist-packages (from altair<6.0,>=4.2.0->gradio) (0.12.0)\n",
            "Requirement already satisfied: filelock in /usr/local/lib/python3.10/dist-packages (from huggingface-hub>=0.14.0->gradio) (3.12.4)\n",
            "Requirement already satisfied: tqdm>=4.42.1 in /usr/local/lib/python3.10/dist-packages (from huggingface-hub>=0.14.0->gradio) (4.66.1)\n",
            "Requirement already satisfied: contourpy>=1.0.1 in /usr/local/lib/python3.10/dist-packages (from matplotlib~=3.0->gradio) (1.1.1)\n",
            "Requirement already satisfied: cycler>=0.10 in /usr/local/lib/python3.10/dist-packages (from matplotlib~=3.0->gradio) (0.12.0)\n",
            "Requirement already satisfied: fonttools>=4.22.0 in /usr/local/lib/python3.10/dist-packages (from matplotlib~=3.0->gradio) (4.43.0)\n",
            "Requirement already satisfied: kiwisolver>=1.0.1 in /usr/local/lib/python3.10/dist-packages (from matplotlib~=3.0->gradio) (1.4.5)\n",
            "Requirement already satisfied: pyparsing>=2.3.1 in /usr/local/lib/python3.10/dist-packages (from matplotlib~=3.0->gradio) (3.1.1)\n",
            "Requirement already satisfied: python-dateutil>=2.7 in /usr/local/lib/python3.10/dist-packages (from matplotlib~=3.0->gradio) (2.8.2)\n",
            "Requirement already satisfied: pytz>=2020.1 in /usr/local/lib/python3.10/dist-packages (from pandas<3.0,>=1.0->gradio) (2023.3.post1)\n",
            "Requirement already satisfied: annotated-types>=0.4.0 in /usr/local/lib/python3.10/dist-packages (from pydantic!=1.8,!=1.8.1,!=2.0.0,!=2.0.1,<3.0.0,>=1.7.4->gradio) (0.5.0)\n",
            "Requirement already satisfied: pydantic-core==2.10.1 in /usr/local/lib/python3.10/dist-packages (from pydantic!=1.8,!=1.8.1,!=2.0.0,!=2.0.1,<3.0.0,>=1.7.4->gradio) (2.10.1)\n",
            "Requirement already satisfied: charset-normalizer<4,>=2 in /usr/local/lib/python3.10/dist-packages (from requests~=2.0->gradio) (3.3.0)\n",
            "Requirement already satisfied: idna<4,>=2.5 in /usr/local/lib/python3.10/dist-packages (from requests~=2.0->gradio) (3.4)\n",
            "Requirement already satisfied: urllib3<3,>=1.21.1 in /usr/local/lib/python3.10/dist-packages (from requests~=2.0->gradio) (2.0.6)\n",
            "Requirement already satisfied: certifi>=2017.4.17 in /usr/local/lib/python3.10/dist-packages (from requests~=2.0->gradio) (2023.7.22)\n",
            "Requirement already satisfied: click>=7.0 in /usr/local/lib/python3.10/dist-packages (from uvicorn>=0.14.0->gradio) (8.1.7)\n",
            "Requirement already satisfied: h11>=0.8 in /usr/local/lib/python3.10/dist-packages (from uvicorn>=0.14.0->gradio) (0.14.0)\n",
            "Requirement already satisfied: anyio<4.0.0,>=3.7.1 in /usr/local/lib/python3.10/dist-packages (from fastapi->gradio) (3.7.1)\n",
            "Requirement already satisfied: starlette<0.28.0,>=0.27.0 in /usr/local/lib/python3.10/dist-packages (from fastapi->gradio) (0.27.0)\n",
            "Requirement already satisfied: httpcore<0.19.0,>=0.18.0 in /usr/local/lib/python3.10/dist-packages (from httpx->gradio) (0.18.0)\n",
            "Requirement already satisfied: sniffio in /usr/local/lib/python3.10/dist-packages (from httpx->gradio) (1.3.0)\n",
            "Requirement already satisfied: exceptiongroup in /usr/local/lib/python3.10/dist-packages (from anyio<4.0.0,>=3.7.1->fastapi->gradio) (1.1.3)\n",
            "Requirement already satisfied: attrs>=22.2.0 in /usr/local/lib/python3.10/dist-packages (from jsonschema>=3.0->altair<6.0,>=4.2.0->gradio) (23.1.0)\n",
            "Requirement already satisfied: jsonschema-specifications>=2023.03.6 in /usr/local/lib/python3.10/dist-packages (from jsonschema>=3.0->altair<6.0,>=4.2.0->gradio) (2023.7.1)\n",
            "Requirement already satisfied: referencing>=0.28.4 in /usr/local/lib/python3.10/dist-packages (from jsonschema>=3.0->altair<6.0,>=4.2.0->gradio) (0.30.2)\n",
            "Requirement already satisfied: rpds-py>=0.7.1 in /usr/local/lib/python3.10/dist-packages (from jsonschema>=3.0->altair<6.0,>=4.2.0->gradio) (0.10.3)\n",
            "Requirement already satisfied: six>=1.5 in /usr/local/lib/python3.10/dist-packages (from python-dateutil>=2.7->matplotlib~=3.0->gradio) (1.16.0)\n"
          ]
        }
      ],
      "source": [
        "!pip install gradio"
      ]
    },
    {
      "cell_type": "code",
      "execution_count": null,
      "metadata": {
        "id": "a-FTkyljNkwe"
      },
      "outputs": [],
      "source": [
        "from neo4j import GraphDatabase, basic_auth\n",
        "\n",
        "driver = GraphDatabase.driver(\n",
        "  \"neo4j+s://771d12ae.databases.neo4j.io\",\n",
        "  auth=basic_auth(\"neo4j\", \"LA2F9ROQCeY9RfPo-6RgBxD-s6t1zxesKNM6GERsqR0\"))"
      ]
    },
    {
      "cell_type": "code",
      "execution_count": null,
      "metadata": {
        "id": "FDWMZsDQNm9d"
      },
      "outputs": [],
      "source": [
        "from pythainlp import word_tokenize\n",
        "import numpy as np"
      ]
    },
    {
      "cell_type": "code",
      "execution_count": null,
      "metadata": {
        "colab": {
          "base_uri": "https://localhost:8080/"
        },
        "id": "8Fcg5gr7TInH",
        "outputId": "a350b687-fb21-4584-b7f2-78edd120f3d4"
      },
      "outputs": [
        {
          "name": "stdout",
          "output_type": "stream",
          "text": [
            "['ตำแหน่ง', 'บริษัท บลิซซาร์ด เอ็นเตอร์เทนเมนต์', 'โอเวอร์วอช', 'โอเวอร์วอช2', 'เกมส์โหมด', '24-พ.ค.-16', 'ตัวละคร', 'แผนที่']\n",
            "['แท็งก์', 'นักทำความเสียหาย', 'นักสนับสนุน']\n",
            "['ผสม', 'ปกป้อง', 'อารีนา', 'จู่โจม', 'ควบคุม']\n",
            "['นุมบานี', 'แบล็กฟอเรส', 'เท็มเพิลออฟอานูบิส', 'อีโคพอยท์: แอนตาร์กติกา', 'โอเอซิส', 'เนโครโปลิส', 'วอตช์พอยท์: ยิบรอลตาร์', 'เนปาล', 'ไอเช็นวาล์ด', 'ฮอลลีวูด', 'ลี่เจียงทาวเวอร์', 'โวลสกายาอินดัสทรีส์', 'คิงส์โรว์', 'รูท 66', 'กาสตีย์โล', 'ฮอไรซอน ลูนาร์ โคโลนี', 'โดราโด', 'อิลิออส', 'ฮะนะมุระ']\n",
            "['ทอร์บยอร์น', 'วิโดว์เม็กเกอร์', 'โรดฮ็อก', 'จังค์แรต', 'เมอร์ซี', 'ดี.ว่า', 'แอช', 'ฮันโซ', 'เซ็นยัตตา', 'บริกิตเต', 'วินสตัน', 'เทรเซอร์', 'ดูมฟิซต์', 'ซิมเมตรา', 'ซาเรีย', 'ลูซิโอ', 'โมอีรา', 'โอริสา', 'ฟาราห์', 'ไรน์ฮาร์ท', 'เก็นจิ', 'เร็กกิงบอล', 'แม็คครี', 'โซลเจอร์: 76', 'แบสชัน', 'อานา', 'รีปเปอร์', 'ซอมบรา', 'เหม่ย']\n",
            "['พัฒนาโดย', 'ภาคต่อ', 'เริ่มจำหน่าย', 'มี']\n",
            "['ขอบคุณ', 'บาย', 'ลาก่อน', 'ไปละ', 'แต้ง']\n",
            "['ดีจ้า', 'สวัสดี', 'ฮัลโหล', 'Hello', 'Hi', 'หวัดดี']\n"
          ]
        }
      ],
      "source": [
        "cypher_query = '''\n",
        "MATCH (n:Main) return n.name as name;\n",
        "'''\n",
        "main_corpus = []\n",
        "with driver.session() as session:\n",
        "    results = session.run(cypher_query)\n",
        "    for record in results:\n",
        "        main_corpus.append(record['name'])\n",
        "    # using set() to remove duplicated from list\n",
        "    main_corpus = list(set(main_corpus))\n",
        "print(main_corpus)\n",
        "\n",
        "# 1\n",
        "cypher_query = '''\n",
        "MATCH (n:Main {name: \"ตำแหน่ง\"})-[:relation_role] -> (p) RETURN p.name as name;\n",
        "'''\n",
        "role_corpus = []\n",
        "with driver.session() as session:\n",
        "    results = session.run(cypher_query)\n",
        "    for record in results:\n",
        "        role_corpus.append(record['name'])\n",
        "    # using set() to remove duplicated from list\n",
        "    role_corpus = list(set(role_corpus))\n",
        "print(role_corpus)\n",
        "\n",
        "# 2\n",
        "cypher_query = '''\n",
        "MATCH (n:Main {name: \"เกมส์โหมด\"})-[:relation_mode] -> (p) RETURN p.name as name;\n",
        "'''\n",
        "gamemode_corpus = []\n",
        "with driver.session() as session:\n",
        "    results = session.run(cypher_query)\n",
        "    for record in results:\n",
        "        gamemode_corpus .append(record['name'])\n",
        "    # using set() to remove duplicated from list\n",
        "    gamemode_corpus  = list(set(gamemode_corpus ))\n",
        "print(gamemode_corpus )\n",
        "\n",
        "# 4\n",
        "cypher_query = '''\n",
        "MATCH (n:Main {name: \"แผนที่\"})-[:relation_main_map] -> (p) RETURN p.name as name;\n",
        "'''\n",
        "map_corpus = []\n",
        "with driver.session() as session:\n",
        "    results = session.run(cypher_query)\n",
        "    for record in results:\n",
        "        map_corpus .append(record['name'])\n",
        "    # using set() to remove duplicated from list\n",
        "    map_corpus  = list(set(map_corpus ))\n",
        "print(map_corpus )\n",
        "\n",
        "# 5\n",
        "cypher_query = '''\n",
        "MATCH (n:Main {name: \"ตัวละคร\"})-[:relation_hero] -> (p) RETURN p.name as name;\n",
        "'''\n",
        "hero_corpus = []\n",
        "with driver.session() as session:\n",
        "    results = session.run(cypher_query)\n",
        "    for record in results:\n",
        "        hero_corpus .append(record['name'])\n",
        "    # using set() to remove duplicated from list\n",
        "    hero_corpus  = list(set(hero_corpus ))\n",
        "print(hero_corpus )\n",
        "\n",
        "# 6\n",
        "cypher_query = '''MATCH (n)-[r:relation_main]->(p) return r.name;'''\n",
        "main_relate_corpus = []\n",
        "with driver.session() as session:\n",
        "    results = session.run(cypher_query)\n",
        "    for record in results:\n",
        "        main_relate_corpus.append(record['r.name'])\n",
        "    # using set() to remove duplicated from list\n",
        "    main_relate_corpus = list(set(main_relate_corpus))\n",
        "print(main_relate_corpus)\n",
        "\n",
        "bye_corpus = [\"ขอบคุณ\",\"บาย\",\"ลาก่อน\",\"ไปละ\",\"แต้ง\"]\n",
        "print(bye_corpus)\n",
        "greeting_corpus = [\"ดีจ้า\",\"สวัสดี\",\"ฮัลโหล\",\"Hello\",\"Hi\",\"หวัดดี\"]\n",
        "print(greeting_corpus)\n",
        "\n"
      ]
    },
    {
      "cell_type": "code",
      "execution_count": null,
      "metadata": {
        "id": "92ijn8RGbi3f"
      },
      "outputs": [],
      "source": [
        "from sentence_transformers import SentenceTransformer, util\n",
        "\n",
        "# Load the BERT model. Various models trained on Natural Language Inference (NLI) https://github.com/UKPLab/sentence-transformers/blob/master/docs/pretrained-models/nli-models.md and\n",
        "# Semantic Textual Similarity are available https://github.com/UKPLab/sentence-transformers/blob/master/docs/pretrained-models/sts-models.md\n",
        "\n",
        "model = SentenceTransformer('paraphrase-multilingual-mpnet-base-v2')"
      ]
    },
    {
      "cell_type": "code",
      "execution_count": null,
      "metadata": {
        "id": "crwEIE3vtvob"
      },
      "outputs": [],
      "source": [
        "def quick_reply_str(Data):\n",
        "  str_m = []\n",
        "  with driver.session() as session:\n",
        "        result = session.run(Data[0])\n",
        "        for record in result:\n",
        "          if len(str(record['p.name']))>0:\n",
        "            #proc = word_tokenize(str(record['p.name']), engine='newmm')\n",
        "            #text = str(proc[:3])+\"...\"\n",
        "            text = str(record['p.name'])\n",
        "            str_m.append({ \"type\": \"action\",\"imageUrl\": \"\",\"action\": { \"type\": \"message\", \"label\": text[:18]+\"..\" , \"text\": text }})\n",
        "        return  {\"items\": str_m}"
      ]
    },
    {
      "cell_type": "code",
      "execution_count": null,
      "metadata": {
        "id": "_Q3NuCOObtmo"
      },
      "outputs": [],
      "source": [
        "def mutipul_Ans(Anw):\n",
        "  ans = []\n",
        "  with driver.session() as session:\n",
        "      result = session.run(Anw[0])\n",
        "      for record in result:\n",
        "        if len(str(record['p.name']))>0:\n",
        "          text = str(record['p.name'])\n",
        "          ans.append(text)\n",
        "      # return ans\n",
        "  result_string = ', '.join(ans)\n",
        "\n",
        "    # คืนค่าสตริงเดียว\n",
        "  return result_string"
      ]
    },
    {
      "cell_type": "code",
      "execution_count": null,
      "metadata": {
        "id": "hzRJi9m7x_SU"
      },
      "outputs": [],
      "source": [
        "def multi_ans(query):\n",
        "    results = []\n",
        "\n",
        "    with driver.session() as session:\n",
        "        result = session.run(query)\n",
        "        for record in result:\n",
        "            results.append({\n",
        "                'ans': str(record['ans']),\n",
        "                'quick_reply': quick_reply_str(record)\n",
        "            })\n",
        "\n",
        "    return results"
      ]
    },
    {
      "cell_type": "code",
      "execution_count": null,
      "metadata": {
        "id": "J-ruGxwaby3p"
      },
      "outputs": [],
      "source": [
        "main_vec = model.encode(main_corpus, convert_to_tensor=True,normalize_embeddings=True)\n",
        "role_vec = model.encode(role_corpus, convert_to_tensor=True,normalize_embeddings=True)\n",
        "gamemode_vec = model.encode(gamemode_corpus, convert_to_tensor=True,normalize_embeddings=True)\n",
        "map_vec = model.encode(map_corpus, convert_to_tensor=True,normalize_embeddings=True)\n",
        "hero_vec = model.encode(hero_corpus, convert_to_tensor=True,normalize_embeddings=True)\n",
        "main_relate_vec = model.encode(main_relate_corpus, convert_to_tensor=True,normalize_embeddings=True)\n",
        "greeting_vec = model.encode(greeting_corpus, convert_to_tensor=True,normalize_embeddings=True)\n",
        "bye_vec = model.encode(bye_corpus, convert_to_tensor=True,normalize_embeddings=True)\n",
        "\n",
        "#print(main_vec,\"\\n\",role_vec,\"\\n\",gamemode_vec,\"\\n\",map_vec,\"\\n\",hero_vec,\"\\n\",main_relate_vec,\"\\n\",)"
      ]
    },
    {
      "cell_type": "code",
      "execution_count": null,
      "metadata": {
        "id": "ihmhB_CKdaI0"
      },
      "outputs": [],
      "source": [
        "def Search_entity(ask):\n",
        "    #Compute embedding for both lists\n",
        "\n",
        "    ask_vec = model.encode(ask, convert_to_tensor=True,normalize_embeddings=True)\n",
        "\n",
        "\n",
        "    #Compute cosine-similarities\n",
        "    cosine_scores = util.cos_sim(main_relate_vec, ask_vec)\n",
        "    main_relate_np = np.array(cosine_scores)\n",
        "    Match_main_relate = main_relate_corpus[np.argmax(main_relate_np)]\n",
        "    print(\"Score main relate\",main_relate_np[np.argmax(main_relate_np)])\n",
        "\n",
        "    #Compute cosine-similarities\n",
        "    cosine_scores = util.cos_sim(role_vec, ask_vec)\n",
        "    role_np = np.array(cosine_scores)\n",
        "    Match_role = role_corpus[np.argmax(role_np)]\n",
        "    print(\"Score role\",role_np[np.argmax(role_np)])\n",
        "\n",
        "\n",
        "    # Compute cosine-similarities\n",
        "    cosine_scores = util.cos_sim(gamemode_vec, ask_vec)\n",
        "    gamemode_np = np.array(cosine_scores)\n",
        "    Match_gamemode = gamemode_corpus[np.argmax(gamemode_np)]\n",
        "    print(\"Score mode\",gamemode_np[np.argmax(gamemode_np)])\n",
        "\n",
        "    # Compute cosine-similarities\n",
        "    cosine_scores = util.cos_sim(hero_vec, ask_vec)\n",
        "    hero_np = np.array(cosine_scores)\n",
        "    Match_hero = hero_corpus[np.argmax(hero_np)]\n",
        "    print(\"Score hero\",hero_np[np.argmax(hero_np)])\n",
        "\n",
        "    # Compute cosine-similarities\n",
        "    cosine_scores = util.cos_sim(greeting_vec, ask_vec)\n",
        "    greeting_np = np.array(cosine_scores)\n",
        "    Match_greeting = greeting_corpus[np.argmax(greeting_np)]\n",
        "    print(\"Score greet\",greeting_np[np.argmax(greeting_np)])\n",
        "\n",
        "    # Compute cosine-similarities\n",
        "    cosine_scores = util.cos_sim(bye_vec, ask_vec)\n",
        "    bye_np = np.array(cosine_scores)\n",
        "    Match_bye = bye_corpus[np.argmax(bye_np)]\n",
        "    print(\"Score bye\",bye_np[np.argmax(bye_np)])\n",
        "\n",
        "\n",
        "\n",
        "    # Cypher sample\n",
        "    # Q-1\n",
        "    if main_relate_np[np.argmax(main_relate_np)] > 0.7:\n",
        "        My_cypher = [f\"MATCH (n)-[r]->(p) WHERE r.name ='{Match_main_relate}' RETURN n.name+r.name+p.name as ans\" ]\n",
        "        print(My_cypher)\n",
        "\n",
        "        with driver.session() as session:\n",
        "            for Qcypher in My_cypher:\n",
        "              result = session.run(Qcypher)\n",
        "              for record in result:\n",
        "                    return record['ans'],''\n",
        "\n",
        "    # Q-2\n",
        "    elif role_np[np.argmax(role_np)] > 0.75:\n",
        "        My_cypher = [f\"MATCH (n)-[r]->(p) WHERE n.name ='{Match_role}' RETURN p.name,r.name,n.name as ans\"]\n",
        "        print(My_cypher)\n",
        "\n",
        "        with driver.session() as session:\n",
        "            for Qcypher in My_cypher:\n",
        "              result = session.run(Qcypher)\n",
        "              for record in result:\n",
        "                    return str(mutipul_Ans(My_cypher)),quick_reply_str(My_cypher),''\n",
        "\n",
        "\n",
        "    # Q-3\n",
        "    elif gamemode_np[np.argmax(gamemode_np)] > 0.60:\n",
        "        My_cypher = [f\"MATCH (n)-[r:relation_map]->(p) WHERE n.name ='{Match_gamemode}' RETURN p.name,r.name,n.name as ans\"]\n",
        "        print(My_cypher)\n",
        "\n",
        "        with driver.session() as session:\n",
        "            for Qcypher in My_cypher:\n",
        "              result = session.run(Qcypher)\n",
        "              for record in result:\n",
        "                    return str(mutipul_Ans(My_cypher)),quick_reply_str(My_cypher),''\n",
        "\n",
        "    # Q-4\n",
        "    elif hero_np[np.argmax(hero_np)] > 0.7:\n",
        "        My_cypher = [f\"MATCH (n)-[r:relation_hero_role]->(p) WHERE p.name ='{Match_hero}' RETURN n.name as ans\"]\n",
        "        print(My_cypher)\n",
        "\n",
        "        with driver.session() as session:\n",
        "            for Qcypher in My_cypher:\n",
        "              result = session.run(Qcypher)\n",
        "              for record in result:\n",
        "                    return record['ans'],''\n",
        "\n",
        "    elif greeting_np[np.argmax(greeting_np)] > 0.70:\n",
        "      return \"สวัสดี! วัยรุ่นเกมเมอร์ เราคือบอทแนะนำเกมส์ Overwatch ที่เรารัก มีเรื่องอะไรสงสัยถามมาโลด แต่อย่ายากไปแนะ เรากำลังเรียนรู้\",''\n",
        "\n",
        "    elif bye_np[np.argmax(bye_np)] > 0.70:\n",
        "      return \"ขอบคุณมากน้า ที่แวะมาคุยด้วย ไว้วันหลังมาอีกน้าา หวังว่าข้อมูลที่ได้ไปจะช่วยให้แกแรงค์ขึ้นเยอะๆนะ\",''\n",
        "\n",
        "    else:\n",
        "      return \"ขอโทษน้า เรื่องนี้เรายังไม่ได้เรียนเยย\",''"
      ]
    },
    {
      "cell_type": "code",
      "execution_count": null,
      "metadata": {
        "colab": {
          "base_uri": "https://localhost:8080/"
        },
        "id": "sBkY1YVfle7N",
        "outputId": "c2ea09d6-f59b-4319-f860-7753524c9af0"
      },
      "outputs": [
        {
          "name": "stdout",
          "output_type": "stream",
          "text": [
            "Score main relate [0.6679113]\n",
            "Score role [0.7827852]\n",
            "Score mode [0.73699903]\n",
            "Score hero [0.74763685]\n",
            "Score greet [0.62429523]\n",
            "Score bye [0.77353585]\n",
            "[\"MATCH (n)-[r]->(p) WHERE n.name ='แท็งก์' RETURN p.name,r.name,n.name as ans\"]\n"
          ]
        },
        {
          "data": {
            "text/plain": [
              "('เร็กกิงบอล, ดี.ว่า, ซาเรีย, โอริสา, ไรน์ฮาร์ท, โรดฮ็อก, วินสตัน',\n",
              " {'items': [{'type': 'action',\n",
              "    'imageUrl': '',\n",
              "    'action': {'type': 'message',\n",
              "     'label': 'เร็กกิงบอล..',\n",
              "     'text': 'เร็กกิงบอล'}},\n",
              "   {'type': 'action',\n",
              "    'imageUrl': '',\n",
              "    'action': {'type': 'message', 'label': 'ดี.ว่า..', 'text': 'ดี.ว่า'}},\n",
              "   {'type': 'action',\n",
              "    'imageUrl': '',\n",
              "    'action': {'type': 'message', 'label': 'ซาเรีย..', 'text': 'ซาเรีย'}},\n",
              "   {'type': 'action',\n",
              "    'imageUrl': '',\n",
              "    'action': {'type': 'message', 'label': 'โอริสา..', 'text': 'โอริสา'}},\n",
              "   {'type': 'action',\n",
              "    'imageUrl': '',\n",
              "    'action': {'type': 'message',\n",
              "     'label': 'ไรน์ฮาร์ท..',\n",
              "     'text': 'ไรน์ฮาร์ท'}},\n",
              "   {'type': 'action',\n",
              "    'imageUrl': '',\n",
              "    'action': {'type': 'message', 'label': 'โรดฮ็อก..', 'text': 'โรดฮ็อก'}},\n",
              "   {'type': 'action',\n",
              "    'imageUrl': '',\n",
              "    'action': {'type': 'message', 'label': 'วินสตัน..', 'text': 'วินสตัน'}}]},\n",
              " '')"
            ]
          },
          "execution_count": 36,
          "metadata": {},
          "output_type": "execute_result"
        }
      ],
      "source": [
        "Search_entity(\"ตัวไหนแท็งก์ได้บ้าง\")"
      ]
    },
    {
      "cell_type": "code",
      "execution_count": null,
      "metadata": {
        "colab": {
          "base_uri": "https://localhost:8080/"
        },
        "id": "vEwu5T4n1EQ-",
        "outputId": "da34ce25-5ac3-4e68-897f-4c7ca464858d"
      },
      "outputs": [
        {
          "name": "stdout",
          "output_type": "stream",
          "text": [
            "Score main relate [0.7376771]\n",
            "Score role [0.39254653]\n",
            "Score mode [0.40337962]\n",
            "Score hero [0.4236853]\n",
            "Score greet [0.35522264]\n",
            "Score bye [0.41497618]\n",
            "[\"MATCH (n)-[r]->(p) WHERE r.name ='เริ่มจำหน่าย' RETURN n.name+r.name+p.name as ans\"]\n"
          ]
        },
        {
          "data": {
            "text/plain": [
              "('โอเวอร์วอชเริ่มจำหน่าย24-พ.ค.-16', '')"
            ]
          },
          "execution_count": 37,
          "metadata": {},
          "output_type": "execute_result"
        }
      ],
      "source": [
        "Search_entity(\"เริ่มจำหน่ายวันไหน\")"
      ]
    },
    {
      "cell_type": "code",
      "execution_count": null,
      "metadata": {
        "colab": {
          "base_uri": "https://localhost:8080/"
        },
        "id": "sg3imOhI9o3A",
        "outputId": "89b02d4a-fdfa-4bda-ce4a-67f26c03cd72"
      },
      "outputs": [
        {
          "name": "stdout",
          "output_type": "stream",
          "text": [
            "Score main relate [0.8463307]\n",
            "Score role [0.59228575]\n",
            "Score mode [0.5265614]\n",
            "Score hero [0.60382795]\n",
            "Score greet [0.42230576]\n",
            "Score bye [0.5499631]\n",
            "[\"MATCH (n)-[r]->(p) WHERE r.name ='พัฒนาโดย' RETURN n.name+r.name+p.name as ans\"]\n"
          ]
        },
        {
          "data": {
            "text/plain": [
              "('โอเวอร์วอชพัฒนาโดยบริษัท บลิซซาร์ด เอ็นเตอร์เทนเมนต์', '')"
            ]
          },
          "execution_count": 38,
          "metadata": {},
          "output_type": "execute_result"
        }
      ],
      "source": [
        "Search_entity(\"พัฒนาโดยใคร\")"
      ]
    },
    {
      "cell_type": "code",
      "execution_count": null,
      "metadata": {
        "colab": {
          "base_uri": "https://localhost:8080/"
        },
        "id": "7MiPXWPH-Day",
        "outputId": "7422b0e4-f65f-4ca7-a37d-82abf65a1b80"
      },
      "outputs": [
        {
          "name": "stdout",
          "output_type": "stream",
          "text": [
            "Score main relate [0.63426816]\n",
            "Score role [0.7237338]\n",
            "Score mode [0.8426896]\n",
            "Score hero [0.8059127]\n",
            "Score greet [0.6073096]\n",
            "Score bye [0.7107719]\n",
            "[\"MATCH (n)-[r:relation_map]->(p) WHERE n.name ='อารีนา' RETURN p.name,r.name,n.name as ans\"]\n"
          ]
        },
        {
          "data": {
            "text/plain": [
              "('แบล็กฟอเรส, กาสตีย์โล, อีโคพอยท์: แอนตาร์กติกา, เนโครโปลิส',\n",
              " {'items': [{'type': 'action',\n",
              "    'imageUrl': '',\n",
              "    'action': {'type': 'message',\n",
              "     'label': 'แบล็กฟอเรส..',\n",
              "     'text': 'แบล็กฟอเรส'}},\n",
              "   {'type': 'action',\n",
              "    'imageUrl': '',\n",
              "    'action': {'type': 'message',\n",
              "     'label': 'กาสตีย์โล..',\n",
              "     'text': 'กาสตีย์โล'}},\n",
              "   {'type': 'action',\n",
              "    'imageUrl': '',\n",
              "    'action': {'type': 'message',\n",
              "     'label': 'อีโคพอยท์: แอนตาร์..',\n",
              "     'text': 'อีโคพอยท์: แอนตาร์กติกา'}},\n",
              "   {'type': 'action',\n",
              "    'imageUrl': '',\n",
              "    'action': {'type': 'message',\n",
              "     'label': 'เนโครโปลิส..',\n",
              "     'text': 'เนโครโปลิส'}}]},\n",
              " '')"
            ]
          },
          "execution_count": 39,
          "metadata": {},
          "output_type": "execute_result"
        }
      ],
      "source": [
        "Search_entity(\"โหมด อารีน่า มีแมพไรมั้ง\")"
      ]
    },
    {
      "cell_type": "code",
      "execution_count": null,
      "metadata": {
        "colab": {
          "base_uri": "https://localhost:8080/"
        },
        "id": "_egjWv1wHM34",
        "outputId": "3a146a6c-e07e-4c0e-b66a-bbd89b7bb1c6"
      },
      "outputs": [
        {
          "name": "stdout",
          "output_type": "stream",
          "text": [
            "Score main relate [0.42225665]\n",
            "Score role [0.55614734]\n",
            "Score mode [0.55266964]\n",
            "Score hero [0.7554273]\n",
            "Score greet [0.50855786]\n",
            "Score bye [0.55795515]\n",
            "[\"MATCH (n)-[r:relation_hero_role]->(p) WHERE p.name ='เก็นจิ' RETURN n.name as ans\"]\n"
          ]
        },
        {
          "data": {
            "text/plain": [
              "('นักทำความเสียหาย', '')"
            ]
          },
          "execution_count": 40,
          "metadata": {},
          "output_type": "execute_result"
        }
      ],
      "source": [
        "Search_entity(\"เก็นจิ ทำไรในทีม\")"
      ]
    },
    {
      "cell_type": "code",
      "execution_count": null,
      "metadata": {
        "colab": {
          "base_uri": "https://localhost:8080/"
        },
        "id": "A67LPBn4TDGf",
        "outputId": "4d3478ec-de17-4b8c-c586-7003c14f8c98"
      },
      "outputs": [
        {
          "name": "stdout",
          "output_type": "stream",
          "text": [
            "Score main relate [0.6315595]\n",
            "Score role [0.57650197]\n",
            "Score mode [0.5438614]\n",
            "Score hero [0.65984017]\n",
            "Score greet [1.]\n",
            "Score bye [0.7385867]\n"
          ]
        },
        {
          "data": {
            "text/plain": [
              "('สวัสดี! วัยรุ่นเกมเมอร์ เราคือบอทแนะนำเกมส์ Overwatch ที่เรารัก มีเรื่องอะไรสงสัยถามมาโลด แต่อย่ายากไปแนะ เรากำลังเรียนรู้',\n",
              " '')"
            ]
          },
          "execution_count": 41,
          "metadata": {},
          "output_type": "execute_result"
        }
      ],
      "source": [
        "Search_entity(\"สวัสดี\")"
      ]
    },
    {
      "cell_type": "code",
      "execution_count": null,
      "metadata": {
        "colab": {
          "base_uri": "https://localhost:8080/"
        },
        "id": "5FeJtjHtTeJw",
        "outputId": "eb31d9a2-b156-4f17-ffb0-8eb5c8062d49"
      },
      "outputs": [
        {
          "name": "stdout",
          "output_type": "stream",
          "text": [
            "Score main relate [0.52892333]\n",
            "Score role [0.53856975]\n",
            "Score mode [0.5404012]\n",
            "Score hero [0.6088882]\n",
            "Score greet [0.69388974]\n",
            "Score bye [1.]\n"
          ]
        },
        {
          "data": {
            "text/plain": [
              "('ขอบคุณมากน้า ที่แวะมาคุยด้วย ไว้วันหลังมาอีกน้าา หวังว่าข้อมูลที่ได้ไปจะช่วยให้แกแรงค์ขึ้นเยอะๆนะ',\n",
              " '')"
            ]
          },
          "execution_count": 42,
          "metadata": {},
          "output_type": "execute_result"
        }
      ],
      "source": [
        "Search_entity(\"ลาก่อน\")"
      ]
    },
    {
      "cell_type": "code",
      "execution_count": null,
      "metadata": {
        "colab": {
          "base_uri": "https://localhost:8080/"
        },
        "id": "Mo1ciqn6UOq8",
        "outputId": "21e2717e-9814-48b3-ce8e-e9029c7c4c93"
      },
      "outputs": [
        {
          "name": "stdout",
          "output_type": "stream",
          "text": [
            "Score main relate [0.3215666]\n",
            "Score role [0.36214173]\n",
            "Score mode [0.35296148]\n",
            "Score hero [0.44445342]\n",
            "Score greet [0.32271785]\n",
            "Score bye [0.3836518]\n"
          ]
        },
        {
          "data": {
            "text/plain": [
              "('ขอโทษน้า เรื่องนี้เรายังไม่ได้เรียนเยย', '')"
            ]
          },
          "execution_count": 43,
          "metadata": {},
          "output_type": "execute_result"
        }
      ],
      "source": [
        "Search_entity(\"ตู้เย็นแดงทำไร\")"
      ]
    },
    {
      "cell_type": "code",
      "execution_count": null,
      "metadata": {
        "id": "083e9GPaf30E"
      },
      "outputs": [],
      "source": [
        "def reply_msg(msg):\n",
        "  result = Search_entity(msg)\n",
        "  text_msg = result\n",
        "  quick_reply_dic = result[1]\n",
        "  #print(TextSendMessage(text=text_msg,quick_reply=quick_reply_dic))\n",
        "  return text_msg"
      ]
    },
    {
      "cell_type": "code",
      "execution_count": null,
      "metadata": {
        "colab": {
          "base_uri": "https://localhost:8080/"
        },
        "id": "j8gsliPyWbUF",
        "outputId": "ee29fd62-315f-4b8e-ccfa-2a6069b8273f"
      },
      "outputs": [
        {
          "name": "stdout",
          "output_type": "stream",
          "text": [
            "Requirement already satisfied: pyngrok in /usr/local/lib/python3.10/dist-packages (7.0.0)\n",
            "Requirement already satisfied: PyYAML in /usr/local/lib/python3.10/dist-packages (from pyngrok) (6.0.1)\n",
            "Requirement already satisfied: flask_ngrok in /usr/local/lib/python3.10/dist-packages (0.0.25)\n",
            "Requirement already satisfied: Flask>=0.8 in /usr/local/lib/python3.10/dist-packages (from flask_ngrok) (2.2.5)\n",
            "Requirement already satisfied: requests in /usr/local/lib/python3.10/dist-packages (from flask_ngrok) (2.31.0)\n",
            "Requirement already satisfied: Werkzeug>=2.2.2 in /usr/local/lib/python3.10/dist-packages (from Flask>=0.8->flask_ngrok) (3.0.0)\n",
            "Requirement already satisfied: Jinja2>=3.0 in /usr/local/lib/python3.10/dist-packages (from Flask>=0.8->flask_ngrok) (3.1.2)\n",
            "Requirement already satisfied: itsdangerous>=2.0 in /usr/local/lib/python3.10/dist-packages (from Flask>=0.8->flask_ngrok) (2.1.2)\n",
            "Requirement already satisfied: click>=8.0 in /usr/local/lib/python3.10/dist-packages (from Flask>=0.8->flask_ngrok) (8.1.7)\n",
            "Requirement already satisfied: charset-normalizer<4,>=2 in /usr/local/lib/python3.10/dist-packages (from requests->flask_ngrok) (3.3.0)\n",
            "Requirement already satisfied: idna<4,>=2.5 in /usr/local/lib/python3.10/dist-packages (from requests->flask_ngrok) (3.4)\n",
            "Requirement already satisfied: urllib3<3,>=1.21.1 in /usr/local/lib/python3.10/dist-packages (from requests->flask_ngrok) (2.0.6)\n",
            "Requirement already satisfied: certifi>=2017.4.17 in /usr/local/lib/python3.10/dist-packages (from requests->flask_ngrok) (2023.7.22)\n",
            "Requirement already satisfied: MarkupSafe>=2.0 in /usr/local/lib/python3.10/dist-packages (from Jinja2>=3.0->Flask>=0.8->flask_ngrok) (2.1.3)\n",
            "Requirement already satisfied: line-bot-sdk in /usr/local/lib/python3.10/dist-packages (3.5.0)\n",
            "Requirement already satisfied: requests==2.31.0 in /usr/local/lib/python3.10/dist-packages (from line-bot-sdk) (2.31.0)\n",
            "Requirement already satisfied: aiohttp==3.8.5 in /usr/local/lib/python3.10/dist-packages (from line-bot-sdk) (3.8.5)\n",
            "Requirement already satisfied: future in /usr/local/lib/python3.10/dist-packages (from line-bot-sdk) (0.18.3)\n",
            "Requirement already satisfied: pydantic<3,>=2.0.3 in /usr/local/lib/python3.10/dist-packages (from line-bot-sdk) (2.4.2)\n",
            "Requirement already satisfied: aenum>=3.1.11 in /usr/local/lib/python3.10/dist-packages (from line-bot-sdk) (3.1.15)\n",
            "Requirement already satisfied: python-dateutil>=2.5.3 in /usr/local/lib/python3.10/dist-packages (from line-bot-sdk) (2.8.2)\n",
            "Requirement already satisfied: Deprecated in /usr/local/lib/python3.10/dist-packages (from line-bot-sdk) (1.2.14)\n",
            "Requirement already satisfied: attrs>=17.3.0 in /usr/local/lib/python3.10/dist-packages (from aiohttp==3.8.5->line-bot-sdk) (23.1.0)\n",
            "Requirement already satisfied: charset-normalizer<4.0,>=2.0 in /usr/local/lib/python3.10/dist-packages (from aiohttp==3.8.5->line-bot-sdk) (3.3.0)\n",
            "Requirement already satisfied: multidict<7.0,>=4.5 in /usr/local/lib/python3.10/dist-packages (from aiohttp==3.8.5->line-bot-sdk) (6.0.4)\n",
            "Requirement already satisfied: async-timeout<5.0,>=4.0.0a3 in /usr/local/lib/python3.10/dist-packages (from aiohttp==3.8.5->line-bot-sdk) (4.0.3)\n",
            "Requirement already satisfied: yarl<2.0,>=1.0 in /usr/local/lib/python3.10/dist-packages (from aiohttp==3.8.5->line-bot-sdk) (1.9.2)\n",
            "Requirement already satisfied: frozenlist>=1.1.1 in /usr/local/lib/python3.10/dist-packages (from aiohttp==3.8.5->line-bot-sdk) (1.4.0)\n",
            "Requirement already satisfied: aiosignal>=1.1.2 in /usr/local/lib/python3.10/dist-packages (from aiohttp==3.8.5->line-bot-sdk) (1.3.1)\n",
            "Requirement already satisfied: idna<4,>=2.5 in /usr/local/lib/python3.10/dist-packages (from requests==2.31.0->line-bot-sdk) (3.4)\n",
            "Requirement already satisfied: urllib3<3,>=1.21.1 in /usr/local/lib/python3.10/dist-packages (from requests==2.31.0->line-bot-sdk) (2.0.6)\n",
            "Requirement already satisfied: certifi>=2017.4.17 in /usr/local/lib/python3.10/dist-packages (from requests==2.31.0->line-bot-sdk) (2023.7.22)\n",
            "Requirement already satisfied: annotated-types>=0.4.0 in /usr/local/lib/python3.10/dist-packages (from pydantic<3,>=2.0.3->line-bot-sdk) (0.5.0)\n",
            "Requirement already satisfied: pydantic-core==2.10.1 in /usr/local/lib/python3.10/dist-packages (from pydantic<3,>=2.0.3->line-bot-sdk) (2.10.1)\n",
            "Requirement already satisfied: typing-extensions>=4.6.1 in /usr/local/lib/python3.10/dist-packages (from pydantic<3,>=2.0.3->line-bot-sdk) (4.8.0)\n",
            "Requirement already satisfied: six>=1.5 in /usr/local/lib/python3.10/dist-packages (from python-dateutil>=2.5.3->line-bot-sdk) (1.16.0)\n",
            "Requirement already satisfied: wrapt<2,>=1.10 in /usr/local/lib/python3.10/dist-packages (from Deprecated->line-bot-sdk) (1.15.0)\n"
          ]
        }
      ],
      "source": [
        "!pip install pyngrok\n",
        "!pip install flask_ngrok\n",
        "!pip install line-bot-sdk"
      ]
    },
    {
      "cell_type": "code",
      "execution_count": null,
      "metadata": {
        "colab": {
          "background_save": true,
          "base_uri": "https://localhost:8080/"
        },
        "id": "TsHqPRXtWdkG",
        "outputId": "5ddf68f5-3a40-49dc-d5f4-f7cd5b926b14"
      },
      "outputs": [
        {
          "name": "stdout",
          "output_type": "stream",
          "text": [
            " * Serving Flask app '__main__'\n",
            " * Debug mode: off\n"
          ]
        },
        {
          "name": "stderr",
          "output_type": "stream",
          "text": [
            "INFO:werkzeug:\u001b[31m\u001b[1mWARNING: This is a development server. Do not use it in a production deployment. Use a production WSGI server instead.\u001b[0m\n",
            " * Running on http://127.0.0.1:5000\n",
            "INFO:werkzeug:\u001b[33mPress CTRL+C to quit\u001b[0m\n"
          ]
        },
        {
          "name": "stdout",
          "output_type": "stream",
          "text": [
            " * Running on http://f79f-34-75-178-132.ngrok.io\n",
            " * Traffic stats available on http://127.0.0.1:4040\n"
          ]
        },
        {
          "name": "stderr",
          "output_type": "stream",
          "text": [
            "<ipython-input-47-669595e39715>:21: LineBotSdkDeprecatedIn30: Call to deprecated class LineBotApi. (Use v3 class; linebot.v3.<feature>. See https://github.com/line/line-bot-sdk-python/blob/master/README.rst for more details.) -- Deprecated since version 3.0.0.\n",
            "  line_bot_api = LineBotApi(access_token)              # 確認 token 是否正確\n",
            "<ipython-input-47-669595e39715>:22: LineBotSdkDeprecatedIn30: Call to deprecated class WebhookHandler. (Use 'from linebot.v3.webhook import WebhookHandler' instead. See https://github.com/line/line-bot-sdk-python/blob/master/README.rst for more details.) -- Deprecated since version 3.0.0.\n",
            "  handler = WebhookHandler(secret)                     # 確認 secret 是否正確\n",
            "INFO:werkzeug:127.0.0.1 - - [06/Oct/2023 04:45:40] \"POST / HTTP/1.1\" 200 -\n"
          ]
        },
        {
          "name": "stdout",
          "output_type": "stream",
          "text": [
            "{\"destination\":\"U8c339c72d0c7e5d4292629d3992d00ff\",\"events\":[]}\n",
            "Score main relate [0.6315595]\n",
            "Score role [0.57650197]\n",
            "Score mode [0.5438614]\n",
            "Score hero [0.65984017]\n",
            "Score greet [1.]\n",
            "Score bye [0.7385867]\n"
          ]
        },
        {
          "name": "stderr",
          "output_type": "stream",
          "text": [
            "<ipython-input-47-669595e39715>:28: LineBotSdkDeprecatedIn30: Call to deprecated method reply_message. (Use 'from linebot.v3.messaging import MessagingApi' and 'MessagingApi(...).reply_message(...)' instead. See https://github.com/line/line-bot-sdk-python/blob/master/README.rst for more details.) -- Deprecated since version 3.0.0.\n",
            "  line_bot_api.reply_message(tk,TextSendMessage(text=msg_reply[0],quick_reply=msg_reply))  # 回傳訊息\n",
            "INFO:werkzeug:127.0.0.1 - - [06/Oct/2023 04:45:53] \"POST / HTTP/1.1\" 200 -\n"
          ]
        },
        {
          "name": "stdout",
          "output_type": "stream",
          "text": [
            "สวัสดี 12034958fed3477eb47f1e1f839739ca\n",
            "Score main relate [0.8463307]\n",
            "Score role [0.59228575]\n",
            "Score mode [0.5265614]\n",
            "Score hero [0.60382795]\n",
            "Score greet [0.42230576]\n",
            "Score bye [0.5499631]\n",
            "[\"MATCH (n)-[r]->(p) WHERE r.name ='พัฒนาโดย' RETURN n.name+r.name+p.name as ans\"]\n"
          ]
        },
        {
          "name": "stderr",
          "output_type": "stream",
          "text": [
            "INFO:werkzeug:127.0.0.1 - - [06/Oct/2023 04:46:18] \"POST / HTTP/1.1\" 200 -\n"
          ]
        },
        {
          "name": "stdout",
          "output_type": "stream",
          "text": [
            "พัฒนาโดยใคร 6658110df82f44a89ccdc1dcc6c95ab6\n",
            "Score main relate [0.7376771]\n",
            "Score role [0.39254653]\n",
            "Score mode [0.40337962]\n",
            "Score hero [0.4236853]\n",
            "Score greet [0.35522264]\n",
            "Score bye [0.41497618]\n",
            "[\"MATCH (n)-[r]->(p) WHERE r.name ='เริ่มจำหน่าย' RETURN n.name+r.name+p.name as ans\"]\n"
          ]
        },
        {
          "name": "stderr",
          "output_type": "stream",
          "text": [
            "INFO:werkzeug:127.0.0.1 - - [06/Oct/2023 04:46:32] \"POST / HTTP/1.1\" 200 -\n"
          ]
        },
        {
          "name": "stdout",
          "output_type": "stream",
          "text": [
            "เริ่มจำหน่ายวันไหน 2b906ddc39e04e139c5e3db6b16e9ea2\n",
            "Score main relate [0.63426816]\n",
            "Score role [0.7237338]\n",
            "Score mode [0.8426896]\n",
            "Score hero [0.8059127]\n",
            "Score greet [0.6073096]\n",
            "Score bye [0.7107719]\n",
            "[\"MATCH (n)-[r:relation_map]->(p) WHERE n.name ='อารีนา' RETURN p.name,r.name,n.name as ans\"]\n"
          ]
        },
        {
          "name": "stderr",
          "output_type": "stream",
          "text": [
            "INFO:werkzeug:127.0.0.1 - - [06/Oct/2023 04:46:50] \"POST / HTTP/1.1\" 200 -\n"
          ]
        },
        {
          "name": "stdout",
          "output_type": "stream",
          "text": [
            "โหมด อารีน่า มีแมพไรมั้ง 610ee32a760d4832bcf4159cdb855d1c\n",
            "Score main relate [0.6679113]\n",
            "Score role [0.7827852]\n",
            "Score mode [0.73699903]\n",
            "Score hero [0.74763685]\n",
            "Score greet [0.62429523]\n",
            "Score bye [0.77353585]\n",
            "[\"MATCH (n)-[r]->(p) WHERE n.name ='แท็งก์' RETURN p.name,r.name,n.name as ans\"]\n"
          ]
        },
        {
          "name": "stderr",
          "output_type": "stream",
          "text": [
            "INFO:werkzeug:127.0.0.1 - - [06/Oct/2023 04:47:08] \"POST / HTTP/1.1\" 200 -\n"
          ]
        },
        {
          "name": "stdout",
          "output_type": "stream",
          "text": [
            "ตัวไหนแท็งก์ได้บ้าง 45a040adaceb4be1ba44d3d623139bb4\n",
            "Score main relate [0.42225665]\n",
            "Score role [0.55614734]\n",
            "Score mode [0.55266964]\n",
            "Score hero [0.7554273]\n",
            "Score greet [0.50855786]\n",
            "Score bye [0.55795515]\n",
            "[\"MATCH (n)-[r:relation_hero_role]->(p) WHERE p.name ='เก็นจิ' RETURN n.name as ans\"]\n"
          ]
        },
        {
          "name": "stderr",
          "output_type": "stream",
          "text": [
            "INFO:werkzeug:127.0.0.1 - - [06/Oct/2023 04:47:23] \"POST / HTTP/1.1\" 200 -\n"
          ]
        },
        {
          "name": "stdout",
          "output_type": "stream",
          "text": [
            "เก็นจิ ทำไรในทีม 4dba57ca1c3f4037b1b63920cc5b9b80\n",
            "Score main relate [0.4221369]\n",
            "Score role [0.42872268]\n",
            "Score mode [0.48949397]\n",
            "Score hero [0.5514481]\n",
            "Score greet [0.5088714]\n",
            "Score bye [0.6022078]\n"
          ]
        },
        {
          "name": "stderr",
          "output_type": "stream",
          "text": [
            "INFO:werkzeug:127.0.0.1 - - [06/Oct/2023 04:47:41] \"POST / HTTP/1.1\" 200 -\n"
          ]
        },
        {
          "name": "stdout",
          "output_type": "stream",
          "text": [
            "หิวข้าวแล้ว เลิกได้ยัง 7f76a1b2d5754c60a02012327ef57ed2\n",
            "Score main relate [0.52892333]\n",
            "Score role [0.53856975]\n",
            "Score mode [0.5404012]\n",
            "Score hero [0.6088882]\n",
            "Score greet [0.69388974]\n",
            "Score bye [1.]\n"
          ]
        },
        {
          "name": "stderr",
          "output_type": "stream",
          "text": [
            "INFO:werkzeug:127.0.0.1 - - [06/Oct/2023 04:48:04] \"POST / HTTP/1.1\" 200 -\n"
          ]
        },
        {
          "name": "stdout",
          "output_type": "stream",
          "text": [
            "ลาก่อน d610d11fcdcb4f5a80bad8bae8f598cc\n"
          ]
        }
      ],
      "source": [
        "from flask_ngrok import run_with_ngrok\n",
        "from flask import Flask, request\n",
        "\n",
        "# 載入 LINE Message API 相關函式庫\n",
        "from linebot import LineBotApi, WebhookHandler\n",
        "from linebot.exceptions import InvalidSignatureError\n",
        "from linebot.models import MessageEvent, TextMessage, TextSendMessage\n",
        "\n",
        "# 載入 json 標準函式庫，處理回傳的資料格式\n",
        "import json\n",
        "\n",
        "app = Flask(__name__)\n",
        "\n",
        "@app.route(\"/\", methods=['POST'])\n",
        "def linebot():\n",
        "    body = request.get_data(as_text=True)                    # 取得收到的訊息內容\n",
        "    try:\n",
        "        json_data = json.loads(body)                         # json 格式化訊息內容\n",
        "        access_token = '/zLWOf8H/VuYjDrHpkEXRoLPgWT/Af4tGxzsJa6AFB238EFrkPfqzd0Pd2I/iTsz02JIX/Uep28F52PZA4HKhvxYhqdhht7CIJu/CLN7BCgxrKmrGPb/nl3cC1XfFH5/cpTDRk3tzJ6XJrPm0x+nJgdB04t89/1O/w1cDnyilFU='\n",
        "        secret = '6a8bd55c6dabceffc9381f3ee6fb5cb0'\n",
        "        line_bot_api = LineBotApi(access_token)              # 確認 token 是否正確\n",
        "        handler = WebhookHandler(secret)                     # 確認 secret 是否正確\n",
        "        signature = request.headers['X-Line-Signature']      # 加入回傳的 headers\n",
        "        handler.handle(body, signature)                      # 綁定訊息回傳的相關資訊\n",
        "        msg = json_data['events'][0]['message']['text']      # 取得 LINE 收到的文字訊息\n",
        "        tk = json_data['events'][0]['replyToken']            # 取得回傳訊息的 Token\n",
        "        msg_reply = Search_entity(msg)\n",
        "        line_bot_api.reply_message(tk,TextSendMessage(text=msg_reply[0],quick_reply=msg_reply))  # 回傳訊息\n",
        "        print(msg, tk)                                       # 印出內容\n",
        "    except:\n",
        "        print(body)                                          # 如果發生錯誤，印出收到的內容\n",
        "    return 'OK'                 # 驗證 Webhook 使用，不能省略\n",
        "if __name__ == \"__main__\":\n",
        "  run_with_ngrok(app)           # 串連 ngrok 服務\n",
        "  app.run()"
      ]
    }
  ],
  "metadata": {
    "colab": {
      "provenance": []
    },
    "kernelspec": {
      "display_name": "Python 3",
      "name": "python3"
    },
    "language_info": {
      "name": "python"
    }
  },
  "nbformat": 4,
  "nbformat_minor": 0
}